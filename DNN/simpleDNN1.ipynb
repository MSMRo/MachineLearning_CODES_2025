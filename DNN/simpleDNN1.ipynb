{
 "cells": [
  {
   "cell_type": "markdown",
   "id": "f92d4a8f",
   "metadata": {},
   "source": [
    "## Empezando con redes neuronales en      tensorflow"
   ]
  },
  {
   "cell_type": "markdown",
   "id": "6af0d854",
   "metadata": {},
   "source": []
  }
 ],
 "metadata": {
  "language_info": {
   "name": "python"
  }
 },
 "nbformat": 4,
 "nbformat_minor": 5
}
